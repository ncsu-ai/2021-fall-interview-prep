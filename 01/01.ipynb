{
 "cells": [
  {
   "cell_type": "markdown",
   "source": [
    "# Binary Tree Function\n",
    "## Problem\n",
    "This problem was asked by Microsoft.\n",
    "Suppose an arithmetic expression is given as a binary tree. Each leaf is an integer and each internal node is one of ‘+’, ‘-’, ‘*’, or ‘/’.\n",
    "Given the root to such a tree, write a function to evaluate it.\n",
    "For example, given the tree below, you should return 45, as it is (3 + 2)*(4+5)."
   ],
   "metadata": {
    "collapsed": false,
    "pycharm": {
     "name": "#%% md\n"
    }
   }
  },
  {
   "cell_type": "code",
   "execution_count": null,
   "outputs": [],
   "source": [
    "from IPython.display import HTML, display\n",
    "display(HTML(\"<img src='img/customer.png'></td><td><img src='img/tree.png'>\"))"
   ],
   "metadata": {
    "collapsed": false,
    "pycharm": {
     "name": "#%%\n"
    }
   }
  },
  {
   "cell_type": "markdown",
   "source": [
    "## Solution\n",
    "This problem should be straightforward from the definition. It will be recursive. We check the value of the root node. If it's one of our arithmetic operators, then we take the evaluated value of our node's children and apply the operator on them.\n",
    "If it's not an arithmetic operator, it has to be a raw number, so we can just return that."
   ],
   "metadata": {
    "collapsed": false,
    "pycharm": {
     "name": "#%% md\n"
    }
   }
  },
  {
   "cell_type": "code",
   "execution_count": null,
   "metadata": {
    "collapsed": true
   },
   "outputs": [],
   "source": [
    "class Node:\n",
    "    def __init__(self, val, left=None, right=None):\n",
    "        self.val = val\n",
    "        self.left = left\n",
    "        self.right = right"
   ]
  },
  {
   "cell_type": "code",
   "execution_count": null,
   "outputs": [],
   "source": [
    "PLUS = '+'\n",
    "MINUS = '-'\n",
    "TIMES = '*'\n",
    "DIVIDE = '/'"
   ],
   "metadata": {
    "collapsed": false,
    "pycharm": {
     "name": "#%%\n"
    }
   }
  },
  {
   "cell_type": "code",
   "execution_count": null,
   "outputs": [],
   "source": [
    "def evaluate(root):\n",
    "    if root.val == PLUS:\n",
    "        return evaluate(root.left) + evaluate(root.right)\n",
    "    elif root.val == MINUS:\n",
    "        return evaluate(root.left) - evaluate(root.right)\n",
    "    elif root.val == TIMES:\n",
    "        return evaluate(root.left) * evaluate(root.right)\n",
    "    elif root.val == DIVIDE:\n",
    "        return evaluate(root.left) / evaluate(root.right)\n",
    "    else:\n",
    "        return root.val"
   ],
   "metadata": {
    "collapsed": false,
    "pycharm": {
     "name": "#%%\n"
    }
   }
  }
 ],
 "metadata": {
  "kernelspec": {
   "display_name": "Python 3",
   "language": "python",
   "name": "python3"
  },
  "language_info": {
   "codemirror_mode": {
    "name": "ipython",
    "version": 2
   },
   "file_extension": ".py",
   "mimetype": "text/x-python",
   "name": "python",
   "nbconvert_exporter": "python",
   "pygments_lexer": "ipython2",
   "version": "2.7.6"
  }
 },
 "nbformat": 4,
 "nbformat_minor": 0
}