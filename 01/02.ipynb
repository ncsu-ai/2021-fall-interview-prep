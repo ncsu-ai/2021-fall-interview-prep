{
 "cells": [
  {
   "cell_type": "markdown",
   "metadata": {
    "pycharm": {
     "name": "#%% md\n"
    }
   },
   "source": [
    "# Shuffle Deck of Cards\n",
    "## Problem\n",
    "This problem was asked by Facebook.\n",
    "Given a function that generates perfectly random numbers between 1 and `k` (inclusive), where `k` is an input, write a function that shuffles a deck of cards represented as an array using only swaps. Each one of the 52! permutations of the deck should be equally likely.\n",
    "It should run in `O(N)` time.\n",
    "\n",
    "\n",
    "## Incorrect Solution"
   ]
  },
  {
   "cell_type": "code",
   "execution_count": 2,
   "metadata": {
    "collapsed": true,
    "pycharm": {
     "name": "#%%\n"
    }
   },
   "outputs": [],
   "source": [
    "from random import randint\n",
    "\n",
    "\n",
    "def shuffle(arr):\n",
    "    n = len(arr)\n",
    "    for i in range(n):\n",
    "        j = randint(0, n - 1)\n",
    "        arr[i], arr[j] = arr[j], arr[i]\n",
    "    return arr"
   ]
  },
  {
   "cell_type": "markdown",
   "metadata": {
    "pycharm": {
     "name": "#%% md\n"
    }
   },
   "source": [
    "This looks like it would reasonably shuffle the array. However, the issue with this code is that it slightly biases certain outcomes. Consider the following array: [a, b, c]. At each step i, we have three different possible outcomes: switching the element at i with any other index in the array. Since we swap up to three times, we have 3^3 = 27 possible (and equally likely) outcomes. But there are only 6 outcomes, and they all need to be equally likely:\n",
    "- [a, b, c]\n",
    "- [a, c, b]\n",
    "- [b, a, c]\n",
    "- [b, c, a]\n",
    "- [c, a, b]\n",
    "- [c, b, a]\n",
    "\n",
    "6 doesn't divide into 26 evenly, so it must be the case that some outcomes are over-represented. Indeed, if we run this algorithm a million times, we see some skew:\n",
    "```\n",
    "(2, 1, 3): 184530\n",
    "(1, 3, 2): 185055\n",
    "(3, 2, 1): 148641\n",
    "(2, 3, 1): 185644\n",
    "(3, 1, 2): 147995\n",
    "(1, 2, 3): 148135\n",
    "```\n",
    "Recall that we want every permutation to be equally likely: in other words, any element should have a 1 / n probability to end up in any spot. To make sure each element has 1 / n probability of ending up in any spot, we can do the following:\n",
    "1. Iterate through the array with an index `i`\n",
    "2. Generate a random index j between `i` and `n - 1`\n",
    "3. Swap `A[i]` and `A[j]`\n",
    "\n",
    "Why does this generate a uniform distribution? Let's use a loop invariant to prove this.\n",
    "Our loop invariant will be the following: at each index `i` of our loop, all indices before `i` have an equally random probability of being any element from our array.\n",
    "Consider `i = 1`. Since we are swapping `A[0]` with an index that spans the entire array, `A[0]` has an equally uniform probability of being any element in the array. So our invariant is true in this case.\n",
    "Assume our loop invariant is true until `i` and consider the loop at `i + 1`. Then we should calculate the probability of some element ending up at index `i + 1`.\n",
    "That's equal to the probability of not picking that element up until `i` and then choosing it.\n",
    "All the remaining prospective elements must not have been picked yet, which means it avoided being picked from 0 to `i`. That's a probability of `(n - 1 / n) * (n - 2 / n - 1) * ... * (n - i - 1 / n - i)`.\n",
    "Finally, we need to actually choose it. Since there are `n - i` remaining elements to choose from, that's a probability of `1 / (n - i)`.\n",
    "Putting them together, we have a probability of `(n - 1 / n) * (n - 2 / n - 1) * ... * (n - i - 1 / n - i) * (1 / n - i)`. Notice that everything beautifully cancels out, and we are left with a probability of `1 / n`!\n",
    "Here's what the code looks like:"
   ]
  },
  {
   "cell_type": "code",
   "execution_count": null,
   "metadata": {
    "pycharm": {
     "name": "#%%\n"
    }
   },
   "outputs": [],
   "source": [
    "def shuffle2(arr):\n",
    "    n = len(arr)\n",
    "    for i in range(n):\n",
    "        j = randint(i, n - 1)\n",
    "        arr[i], arr[j] = arr[j], arr[i]\n",
    "    return arr"
   ]
  },
  {
   "cell_type": "markdown",
   "metadata": {
    "pycharm": {
     "name": "#%% md\n"
    }
   },
   "source": [
    "*Note: This algorithm is called the Fisher-Yates shuffle.*"
   ]
  }
 ],
 "metadata": {
  "kernelspec": {
   "display_name": "Python 3 (ipykernel)",
   "language": "python",
   "name": "python3"
  },
  "language_info": {
   "codemirror_mode": {
    "name": "ipython",
    "version": 3
   },
   "file_extension": ".py",
   "mimetype": "text/x-python",
   "name": "python",
   "nbconvert_exporter": "python",
   "pygments_lexer": "ipython3",
   "version": "3.8.6"
  }
 },
 "nbformat": 4,
 "nbformat_minor": 1
}