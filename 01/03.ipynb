{
 "cells": [
  {
   "cell_type": "markdown",
   "source": [
    "# SQL Having Clause\n",
    "## Problem\n",
    "\n",
    "**(Amazon)** We want to recommend a customer to buy a product named “C”. Write an SQL query to report the customer_id and customer_name who bought products “A” and “B” but did not buy the product “C”. Return the result table ordered by customer_id."
   ],
   "metadata": {
    "collapsed": false,
    "pycharm": {
     "name": "#%% md\n"
    }
   }
  },
  {
   "cell_type": "code",
   "execution_count": 1,
   "metadata": {
    "pycharm": {
     "name": "#%%\n"
    },
    "scrolled": true
   },
   "outputs": [
    {
     "data": {
      "text/html": [
       "<table><tr><td><img src='img/customer.png'></td><td><img src='img/product.png'></td></tr></table>"
      ],
      "text/plain": [
       "<IPython.core.display.HTML object>"
      ]
     },
     "metadata": {},
     "output_type": "display_data"
    }
   ],
   "source": [
    "from IPython.display import HTML, display\n",
    "display(HTML(\"<table><tr><td><img src='img/customer.png'></td><td><img src='img/product.png'></td></tr></table>\"))"
   ]
  },
  {
   "cell_type": "markdown",
   "source": [
    "## Solution"
   ],
   "metadata": {
    "collapsed": false,
    "pycharm": {
     "name": "#%% md\n"
    }
   }
  },
  {
   "cell_type": "code",
   "execution_count": null,
   "metadata": {
    "collapsed": true
   },
   "outputs": [],
   "source": [
    "# noinspection SqlDialectInspection,SqlNoDataSourceInspection\n",
    "\"\"\"\n",
    "with t1 as (\n",
    "    select customer_id\n",
    "    from orders\n",
    "    where product_name = 'B' and customer_id in (\n",
    "        select customer_id\n",
    "        from orders\n",
    "        where product_name = 'A'\n",
    "    )\n",
    ")\n",
    "select t1.customer_id, c.customer_name\n",
    "from t1 join customers c\n",
    "on t1.customer_id = c.customer_id\n",
    "where t1.customer_id != all(\n",
    "    select customer_id\n",
    "    from orders\n",
    "    where product_name = 'C'\n",
    ")\n",
    "\"\"\""
   ]
  }
 ],
 "metadata": {
  "kernelspec": {
   "display_name": "Python 3 (ipykernel)",
   "language": "python",
   "name": "python3"
  },
  "language_info": {
   "codemirror_mode": {
    "name": "ipython",
    "version": 3
   },
   "file_extension": ".py",
   "mimetype": "text/x-python",
   "name": "python",
   "nbconvert_exporter": "python",
   "pygments_lexer": "ipython3",
   "version": "3.8.6"
  }
 },
 "nbformat": 4,
 "nbformat_minor": 1
}