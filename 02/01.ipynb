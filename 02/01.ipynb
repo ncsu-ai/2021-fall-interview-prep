{
 "cells": [
  {
   "cell_type": "markdown",
   "metadata": {
    "collapsed": true,
    "pycharm": {
     "name": "#%% md\n"
    }
   },
   "source": [
    "# Hash Tables (Google)\n",
    "\n",
    "Implement an LRU (Least Recently Used) cache. It should be able to be initialized with a cache size `n`, and contain the following methods (each of which should run in O(1) time:\n",
    "- `set(key, value)`: sets `key` to `value`. If there are already `n` items in the cache, and we are adding a new item, then it should remove the least recently used item.\n",
    "- `get(key)`: gets the `value` at `key`. If no such `key` exists, return null."
   ]
  },
  {
   "cell_type": "code",
   "execution_count": null,
   "metadata": {},
   "outputs": [],
   "source": [
    "dct = {\n",
    "    'one': [1, 2, 3],\n",
    "    'two': 8\n",
    "}\n",
    "\n",
    "\n",
    "\n",
    "\n",
    "\n",
    "\n",
    "\n",
    "\n",
    "\n",
    "\n",
    "\n",
    "\n",
    "\n"
   ]
  },
  {
   "cell_type": "markdown",
   "metadata": {},
   "source": [
    "### Solution\n",
    "\n",
    "To implement both these methods in constant time, we'll need to use a hash table (dictionary) along with a linked list. The hash table will map `keys` to `nodes` in the linked list, and the linked list will be ordered from most recently used to least recently used.\n",
    "\n",
    "Then, for `set`:\n",
    "- First look at our current capacity. If it's `< n`, then create a `node` with the `value`, set it as the `head`, and add it as an entry in the dictionary.\n",
    "- If it's equal to `n`, then add our `node` as usual, but also evict the least frequently used `node` by deleting the `tail` of our linked list and also removing the entry from our dictionary. We'll need to keep track of the `key` in each `node` so that we know which entry to evict.\n",
    "\n",
    "For `get`:\n",
    "- If the `key` doesn't exist in our dictionary, then return null.\n",
    "- Otherwise, look up the relevant `node` through the dictionary. Before returning it, update the linked list by moving the node to the `front` of the list.\n",
    "\n",
    "To simplify our implementation, we can use the following tricks:\n",
    "- Using dummy nodes for the `head` and `tail` of our list, which will simplify creating the list when nothing's initialized.\n",
    "- Implementing the helper class `LinkedList` to reuse code when adding and removing `nodes` to our linked list.\n",
    "- When we need to bump a `node` to the back of list (like when we fetch it), we can just remove it and add it back to the list.\n",
    "\n",
    "Putting it all together, we have the following solution:"
   ]
  },
  {
   "cell_type": "code",
   "execution_count": 1,
   "metadata": {},
   "outputs": [],
   "source": [
    "class Node:\n",
    "    def __init__(self, key, val, prev=None, nxt=None):\n",
    "        self.key = key\n",
    "        self.val = val\n",
    "        self.prev = prev\n",
    "        self.next = nxt\n",
    "\n",
    "        \n",
    "class LinkedList:\n",
    "    def __init__(self):\n",
    "        # Dummy nodes for head and tail of list\n",
    "        self._head = Node(None, None)\n",
    "        self._tail = Node(None, None, self._head)\n",
    "        \n",
    "        # Finish connecting up the dummy nodes\n",
    "        self._head.next = self._tail\n",
    "    \n",
    "    def get_head(self):\n",
    "        return self._head.next\n",
    "    \n",
    "    def get_tail(self):\n",
    "        return self._tail.prev\n",
    "    \n",
    "    def add(self, key, value):\n",
    "        node = Node(key, value, self._head, self._head.next)\n",
    "        \n",
    "        # Update references and return node\n",
    "        self._head.next = node\n",
    "        node.next.prev = node\n",
    "        return node\n",
    "    \n",
    "    def remove(self, node):\n",
    "        prev = node.prev\n",
    "        nxt = node.next\n",
    "        prev.next = nxt\n",
    "        nxt.prev = prev\n",
    "\n",
    "        \n",
    "class LRUCache:\n",
    "    def __init__(self, n):\n",
    "        self.n = n\n",
    "        self.dict = {}\n",
    "        self.list = LinkedList()\n",
    "    \n",
    "    def set(self, key, val):\n",
    "        if key in self.dict:\n",
    "            del self.dict[key]\n",
    "        \n",
    "        self.dict[key] = self.list.add(key, val)\n",
    "        if len(self.dict) > self.n:\n",
    "            tail = self.list.get_tail()\n",
    "            self.list.remove(tail)\n",
    "            del self.dict[tail.key]\n",
    "    \n",
    "    def get(self, key):\n",
    "        if key in self.dict:\n",
    "            node = self.dict[key]\n",
    "            \n",
    "            # Move node to front of list and return value\n",
    "            self.list.remove(node)\n",
    "            self.list.add(node.key, node.val)\n",
    "            return node.val"
   ]
  }
 ],
 "metadata": {
  "kernelspec": {
   "display_name": "Python 3 (ipykernel)",
   "language": "python",
   "name": "python3"
  },
  "language_info": {
   "codemirror_mode": {
    "name": "ipython",
    "version": 3
   },
   "file_extension": ".py",
   "mimetype": "text/x-python",
   "name": "python",
   "nbconvert_exporter": "python",
   "pygments_lexer": "ipython3",
   "version": "3.8.6"
  }
 },
 "nbformat": 4,
 "nbformat_minor": 1
}
