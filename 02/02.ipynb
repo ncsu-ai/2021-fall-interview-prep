{
 "cells": [
  {
   "cell_type": "markdown",
   "metadata": {
    "collapsed": true
   },
   "source": [
    "# Stacks (Apple)\n",
    "\n",
    "Implement a queue using two stacks. Recall that a queue is a FIFO (first-in, first-out) data structure with the following methods:\n",
    "- enqueue() - inserts an element to the end of the queue\n",
    "- dequeue() - removes, and returns, an element from the front of the queue"
   ]
  },
  {
   "cell_type": "code",
   "execution_count": null,
   "metadata": {},
   "outputs": [],
   "source": [
    "\n",
    "\n",
    "\n",
    "\n",
    "\n",
    "\n",
    "\n",
    "\n",
    "\n",
    "\n",
    "\n",
    "\n",
    "\n",
    "\n",
    "\n",
    "\n",
    "\n"
   ]
  },
  {
   "cell_type": "markdown",
   "metadata": {},
   "source": [
    "### Solution\n",
    "\n",
    "We can implement this by noticing that while a stack is LIFO (last in, first out), if we empty a stack one-by-one into another stack, and then `pop` from the other stack we can simulate a FIFO (first in first out) list.\n",
    "\n",
    "Consider enqueuing three elements: 1, 2, and then 3:\n",
    "- `stack1: [1, 2, 3]`\n",
    "- `stack2: []`\n",
    "\n",
    "Then emptying `stack1` into `stack2`:\n",
    "- `stack1: []`\n",
    "- `stack2: [3, 2, 1]`\n",
    "\n",
    "Then dequeuing three times:\n",
    "```\n",
    "1\n",
    "2\n",
    "3\n",
    "```\n",
    "Which retains the original order. So when enqueuing, we can simply push to our first stack. When dequeuing, we'll first check our second stack to see if any residual elements are there from a previous emptying, and if not, we'll empty all of stack one into stack two so that the order of elements is correct (we shouldn't empty some elements into stack two, pop only some of them, and then empty some more, for example). Thus, we have the following code:"
   ]
  },
  {
   "cell_type": "code",
   "execution_count": null,
   "metadata": {},
   "outputs": [],
   "source": [
    "class Queue:\n",
    "    def __init__(self):\n",
    "        self.s1 = []\n",
    "        self.s2 = []\n",
    "    \n",
    "    def enqueue(self, val):\n",
    "        self.s1.append(val)\n",
    "    \n",
    "    def dequeue(self):\n",
    "        if self.s2:\n",
    "            return self.s2.pop()\n",
    "        \n",
    "        if self.s1:\n",
    "            # Empty first stack into second\n",
    "            while self.s1:\n",
    "                self.s2.append(self.s1.pop())\n",
    "                return self.s2.pop()\n",
    "        \n",
    "        return None"
   ]
  }
 ],
 "metadata": {
  "kernelspec": {
   "display_name": "Python 3 (ipykernel)",
   "language": "python",
   "name": "python3"
  },
  "language_info": {
   "codemirror_mode": {
    "name": "ipython",
    "version": 3
   },
   "file_extension": ".py",
   "mimetype": "text/x-python",
   "name": "python",
   "nbconvert_exporter": "python",
   "pygments_lexer": "ipython3",
   "version": "3.9.1"
  }
 },
 "nbformat": 4,
 "nbformat_minor": 1
}