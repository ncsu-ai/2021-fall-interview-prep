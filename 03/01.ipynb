{
 "cells": [
  {
   "cell_type": "markdown",
   "metadata": {
    "collapsed": true,
    "pycharm": {
     "name": "#%% md\n"
    }
   },
   "source": [
    "# Backtracking (Dropbox)\n",
    "\n",
    "Sudoku is a puzzle where you're given a partially-filled 9 by 9 grid with digits. The objective is to fill the grid with the constraint that every row, column, and box (3 by 3 subgrid) must contain all the digits from 1 to 9 exactly once.\n",
    "\n",
    "Implement an efficient sudoku solver."
   ]
  },
  {
   "cell_type": "code",
   "execution_count": null,
   "outputs": [],
   "source": [],
   "metadata": {
    "collapsed": false,
    "pycharm": {
     "name": "#%%\n"
    }
   }
  },
  {
   "cell_type": "markdown",
   "source": [
    "### Solution\n",
    "Trying brute force on a sudoku board will take a relative long time (i.e., is not very efficient); we would need to try every permutation of the numbers 1-9 for all non-empty squares.\n",
    "\n",
    "Let's instead try to use backtracking to solve this problem. What we can do is try filling each empty cell  one by one, and backtrack once we hit an invalid state. To do this, we'll need a `valid_so_far(...)` function that tests the board for its validity by checking all the rows, columns, and squares. Then we'll backtrack as usual:"
   ],
   "metadata": {
    "collapsed": false,
    "pycharm": {
     "name": "#%% md\n"
    }
   }
  },
  {
   "cell_type": "code",
   "execution_count": null,
   "outputs": [],
   "source": [
    "# Placeholder empty value used for backtracking\n",
    "X = None\n",
    "\n",
    "def sudoku(board):\n",
    "    if is_complete(board):\n",
    "        return board\n",
    "\n",
    "    r, c = find_first_empty(board)\n",
    "\n",
    "    # Try all digits 1-9 for the current board position\n",
    "    for i in range(1, 10):\n",
    "        board[r][c] = i\n",
    "        if valid_so_far(board):\n",
    "            result = sudoku(board)\n",
    "            if is_complete(result):\n",
    "                return result\n",
    "\n",
    "        board[r][c] = X\n",
    "\n",
    "    return board\n",
    "\n",
    "def is_complete(board):\n",
    "    return all(all(val is not X for val in row) for row in board)\n",
    "\n",
    "def find_first_empty(board):\n",
    "    for i, row in enumerate(board):\n",
    "        for j, val in enumerate(row):\n",
    "            if val == X:\n",
    "                return i, j\n",
    "\n",
    "    return False\n",
    "\n",
    "def valid_so_far(board):\n",
    "    return rows_valid(board) \\\n",
    "           & cols_valid(board) \\\n",
    "           & blocks_valid(board)\n",
    "\n",
    "def rows_valid(board):\n",
    "    for row in board:\n",
    "        if duplicates(row):\n",
    "            return False\n",
    "    return True\n",
    "\n",
    "def cols_valid(board):\n",
    "    for j in range(len(board[0])):\n",
    "        if duplicates([board[i][j] for i in range(len(board))]):\n",
    "            return False\n",
    "\n",
    "    return True\n",
    "\n",
    "def blocks_valid(board):\n",
    "    for i in range(0, 9, 3):\n",
    "        for j in range(0, 9, 3):\n",
    "            block = []\n",
    "            for k in range(3):\n",
    "                for l in range(3):\n",
    "                    block.append(board[i+k][j+l])\n",
    "\n",
    "            if duplicates(block):\n",
    "                return False\n",
    "\n",
    "    return True\n",
    "\n",
    "def duplicates(arr):\n",
    "    c = {}\n",
    "    for val in arr:\n",
    "        if val in c and val is not X:\n",
    "            return True\n",
    "        c[val] = True\n",
    "\n",
    "    return False"
   ],
   "metadata": {
    "collapsed": false,
    "pycharm": {
     "name": "#%%\n"
    }
   }
  }
 ],
 "metadata": {
  "kernelspec": {
   "display_name": "Python 3",
   "language": "python",
   "name": "python3"
  },
  "language_info": {
   "codemirror_mode": {
    "name": "ipython",
    "version": 2
   },
   "file_extension": ".py",
   "mimetype": "text/x-python",
   "name": "python",
   "nbconvert_exporter": "python",
   "pygments_lexer": "ipython2",
   "version": "2.7.6"
  }
 },
 "nbformat": 4,
 "nbformat_minor": 0
}