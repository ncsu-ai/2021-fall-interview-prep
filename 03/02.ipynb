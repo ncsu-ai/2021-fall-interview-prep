{
 "cells": [
  {
   "cell_type": "markdown",
   "source": [
    "# Hashmaps (Microsoft)\n",
    "\n",
    "Implement a URL shortener with the following methods:\n",
    "- `shorten(url)`: shortens the specified url into a six-character string\n",
    "- `restore(short)`: expands the shortened string into the original url; if no such shortened string exists, returns null"
   ],
   "metadata": {
    "collapsed": false
   }
  },
  {
   "cell_type": "code",
   "execution_count": null,
   "outputs": [],
   "source": [],
   "metadata": {
    "collapsed": false,
    "pycharm": {
     "name": "#%%\n"
    }
   }
  },
  {
   "cell_type": "markdown",
   "source": [
    "### Solution\n",
    "\n",
    "Clearly, we need a random string generator for this problem. If you're in an interview, and you don't know how to generate a random string by heart, that's fine -- you can just assume you have access to a function that generates N random characters. In this case, we'll create a helper function called `_generate_short(...)` that does it for us.\n",
    "\n",
    "The idea for this problem is to generate a shortened url and store it in a dictionary where the shortened url is the key and the actual url is the value. Then, when retrieving the actual url we can just look it up in the dictionary.\n",
    "\n",
    "However, we need to be careful that we don't accidentally overwrite an existing entry when shortening a url. So what we'll do is continuously generate urls until we find one that doesn't already exist, and then use that one. We do that in the helper function `_generate_unused_short(...)`"
   ],
   "metadata": {
    "collapsed": false,
    "pycharm": {
     "name": "#%% md\n"
    }
   }
  },
  {
   "cell_type": "code",
   "execution_count": 1,
   "outputs": [],
   "source": [
    "import random\n",
    "import string\n",
    "\n",
    "\n",
    "class URLShortener:\n",
    "    def __init__(self):\n",
    "        self.short_to_url = {}\n",
    "\n",
    "    def _generate_short(self):\n",
    "        return ''.join(random.choice(string.ascii_uppercase + string.digits) for _ in range(6))\n",
    "\n",
    "    def _generate_unused_short(self):\n",
    "        t = self._generate_short()\n",
    "        while t in self.short_to_url:\n",
    "            t = self._generate_short()\n",
    "        return t\n",
    "\n",
    "    def shorten(self, url):\n",
    "        short = self._generate_unused_short()\n",
    "        self.short_to_url[short] = url\n",
    "        return short\n",
    "\n",
    "    def restore(self, short):\n",
    "        return self.short_to_url.get(short, None)"
   ],
   "metadata": {
    "collapsed": false,
    "pycharm": {
     "name": "#%%\n"
    }
   }
  },
  {
   "cell_type": "markdown",
   "source": [
    "We can improve this solution a bit, however. What if we shorten the same url twice? We could potentially re-use the existing shortened url, but we don't know how to access it without querying all the values in our current dictionary. As a result, we can create a second dictionary that maps urls to shortened urls and update that appropriately. When we see a url we've seen before, we can just then re-use that shortened url."
   ],
   "metadata": {
    "collapsed": false,
    "pycharm": {
     "name": "#%% md\n"
    }
   }
  },
  {
   "cell_type": "code",
   "execution_count": null,
   "outputs": [],
   "source": [
    "import random\n",
    "import string\n",
    "\n",
    "\n",
    "class URLShortener:\n",
    "    def __init__(self):\n",
    "        self.short_to_url = {}\n",
    "        self.url_to_short = {}\n",
    "\n",
    "    def _generate_short(self):\n",
    "        return ''.join(random.choice(string.ascii_uppercase + string.digits) for _ in range(6))\n",
    "\n",
    "    def _generate_unused_short(self):\n",
    "        t = self._generate_short()\n",
    "        while t in self.short_to_url:\n",
    "            t = self._generate_short()\n",
    "        return t\n",
    "\n",
    "    def shorten(self, url):\n",
    "        # If we've shortened the url before, return the existing short url\n",
    "        if url in self.url_to_short:\n",
    "            return self.url_to_short[url]\n",
    "\n",
    "        short = self._generate_unused_short()\n",
    "        self.short_to_url[short] = url\n",
    "        return short\n",
    "\n",
    "    def restore(self, short):\n",
    "        return self.short_to_url.get(short, None)"
   ],
   "metadata": {
    "collapsed": false,
    "pycharm": {
     "name": "#%%\n"
    }
   }
  }
 ],
 "metadata": {
  "kernelspec": {
   "display_name": "Python 3",
   "language": "python",
   "name": "python3"
  },
  "language_info": {
   "codemirror_mode": {
    "name": "ipython",
    "version": 2
   },
   "file_extension": ".py",
   "mimetype": "text/x-python",
   "name": "python",
   "nbconvert_exporter": "python",
   "pygments_lexer": "ipython2",
   "version": "2.7.6"
  }
 },
 "nbformat": 4,
 "nbformat_minor": 0
}