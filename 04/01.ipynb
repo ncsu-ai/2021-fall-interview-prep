{
 "cells": [
  {
   "cell_type": "markdown",
   "metadata": {
    "collapsed": true,
    "pycharm": {
     "name": "#%% md\n"
    }
   },
   "source": [
    "# Vertex Graph Coloring (Google)\n",
    "##### *Algorithm & Data Structures*\n",
    "\n",
    "Given an undirected graph represented as an adjacency matrix and an integer `k`, write a function to determine whether each vertex in the graph can be colored such that no two adjacent vertices share the same color using at most `k` colors."
   ]
  },
  {
   "cell_type": "code",
   "execution_count": null,
   "metadata": {
    "pycharm": {
     "name": "#%%\n"
    }
   },
   "outputs": [],
   "source": [
    "from IPython.display import HTML, display\n",
    "display(HTML(\"<img src='img/graph.png'>\"))"
   ]
  },
  {
   "cell_type": "markdown",
   "metadata": {
    "pycharm": {
     "name": "#%% md\n"
    }
   },
   "source": [
    "The directed graph above can be represented by the following adjacency matrix\n",
    "\n",
    "$$\\begin{pmatrix}\n",
    "2&1&0&0&1&0\\\\\n",
    "1&0&1&0&1&0\\\\\n",
    "0&1&0&1&0&0\\\\\n",
    "0&0&1&0&1&1\\\\\n",
    "1&1&0&1&0&0\\\\\n",
    "0&0&0&1&0&0\n",
    "\\end{pmatrix}$$\n",
    "\n",
    "where a 1 in any given location in the matrix represents a connection between the nodes represented by the row and column number of the location. For example, the 1 in at index `[1, 2]` (row 2, column 3) indicates that there is a connection between nodes 2 and 3 in the undirected graph. Additionally, the 2 at index `[0, 0]` (row 1, column 1) indicates that node 1 is connected to itself."
   ]
  },
  {
   "cell_type": "code",
   "execution_count": null,
   "metadata": {
    "pycharm": {
     "name": "#%%\n"
    }
   },
   "outputs": [],
   "source": [
    "# In the example above, our graph would be represented as follows\n",
    "graph = [\n",
    "    [2, 1, 0, 0, 1, 0],\n",
    "    [1, 0, 1, 0, 1, 0],\n",
    "    [0, 1, 0, 1, 0, 0],\n",
    "    [0, 0, 1, 0, 1, 1],\n",
    "    [1, 1, 0, 1, 0, 0],\n",
    "    [0, 0, 0, 1, 0, 0]\n",
    "]"
   ]
  },
  {
   "cell_type": "code",
   "execution_count": null,
   "metadata": {
    "pycharm": {
     "name": "#%%\n"
    }
   },
   "outputs": [],
   "source": [
    "\n",
    "\n",
    "\n",
    "\n",
    "\n",
    "\n"
   ]
  },
  {
   "cell_type": "markdown",
   "metadata": {
    "pycharm": {
     "name": "#%% md\n"
    }
   },
   "source": [
    "### Solution\n",
    "\n",
    "We can use backtracking to solve this problem. More, specifically, we start at vertex 0, try out every color from `0` to `k - 1`, and then see if we can recursively paint the rest of the graph without any conflicting colors. We'll create a helper function `valid(graph, colors)` that looks at the last colored vertex and all its neighbors to see if it conflicts with any of its neighbors (i.e., has the same color). We can skip over all uncolored vertices here.\n",
    "\n",
    "To represent the colors, we can just keep a separate colors list that maps 1-to-1 with the vertices. You can also convert the graph into nodes and add a color property as well.\n"
   ]
  },
  {
   "cell_type": "code",
   "execution_count": null,
   "metadata": {
    "pycharm": {
     "name": "#%%\n"
    }
   },
   "outputs": [],
   "source": [
    "def valid(graph, colors):\n",
    "    last_vertex, last_color = len(colors) - 1, colors[-1]\n",
    "    colored_neighbors = [\n",
    "        i\n",
    "        for i, has_edge\n",
    "        in enumerate(graph[last_vertex])\n",
    "        if has_edge and i < last_vertex\n",
    "    ]\n",
    "\n",
    "    for neighbor in colored_neighbors:\n",
    "        if colors[neighbor] == last_color:\n",
    "            return False\n",
    "\n",
    "    return True\n",
    "\n",
    "\n",
    "def colorable(graph, k, colors=None):\n",
    "    if colors is None:\n",
    "        colors = []\n",
    "\n",
    "    if len(colors) == len(graph):\n",
    "        return True\n",
    "\n",
    "    for i in range(k):\n",
    "        colors.append(i)\n",
    "        if valid(graph, colors):\n",
    "            if colorable(graph, k, colors):\n",
    "                return True\n",
    "        colors.pop()\n",
    "\n",
    "    return False"
   ]
  },
  {
   "cell_type": "markdown",
   "metadata": {
    "pycharm": {
     "name": "#%% md\n"
    }
   },
   "source": [
    "This runs in $O(k^N)$ time and $O(k)$ space, where `N` is the number of vertices, since we're iterating over `k` colors, and we are backtracking over `N` vertices."
   ]
  }
 ],
 "metadata": {
  "kernelspec": {
   "display_name": "Python 3 (ipykernel)",
   "language": "python",
   "name": "python3"
  },
  "language_info": {
   "codemirror_mode": {
    "name": "ipython",
    "version": 3
   },
   "file_extension": ".py",
   "mimetype": "text/x-python",
   "name": "python",
   "nbconvert_exporter": "python",
   "pygments_lexer": "ipython3",
   "version": "3.9.1"
  }
 },
 "nbformat": 4,
 "nbformat_minor": 1
}