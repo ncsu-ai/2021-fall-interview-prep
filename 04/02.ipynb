{
 "cells": [
  {
   "cell_type": "markdown",
   "metadata": {
    "collapsed": true,
    "pycharm": {
     "name": "#%% md\n"
    }
   },
   "source": [
    "# Break String into Multiple Lines (Amazon)\n",
    "##### *Algorithm & Data Structures*\n",
    "\n",
    "Given a string `s` and an integer `k`, break up the string into multiple lines such that each line has a length of `k` or less. You must break it up so that words don't break across lines. Each line has to have the maximum possible amount of words. Return null if there's no way to break the text into lines of at most length `k`.\n",
    "\n",
    "You can assume that there are no spaces at the ends of the string and that there is exactly one space between each word."
   ]
  },
  {
   "cell_type": "code",
   "execution_count": null,
   "metadata": {
    "pycharm": {
     "name": "#%%\n"
    }
   },
   "outputs": [],
   "source": [
    "\n",
    "\n",
    "\n",
    "\n",
    "\n",
    "\n",
    "\n",
    "\n",
    "\n",
    "\n",
    "\n",
    "\n",
    "\n",
    "\n",
    "\n"
   ]
  },
  {
   "cell_type": "markdown",
   "metadata": {
    "pycharm": {
     "name": "#%% md\n"
    }
   },
   "source": [
    "### Solution\n",
    "\n",
    "We can break up the string greedily. First, we'll break up `s` into an array called `words`. Then, we can use a buffer as a current string and tentatively add words to it, checking that the newly-added-to line can fit within `k`. If we overflow with the new word, then we flush out the current string into an array, `lines`, and restart it with the new word.\n",
    "\n",
    "Notice that if any word is longer than `k`, then there's no way to break up the text, so we should return `None`. It's helpful to define a helper function that returns the length of a list of words with spaces added in between.\n",
    "\n",
    "Finally, we return `lines`, which should contain the texts we want."
   ]
  },
  {
   "cell_type": "code",
   "execution_count": null,
   "metadata": {
    "pycharm": {
     "name": "#%%\n"
    }
   },
   "outputs": [],
   "source": [
    "def length(words):\n",
    "    if not words:\n",
    "        return 0\n",
    "\n",
    "    return sum(len(word) for word in words) + len(words) - 1\n",
    "\n",
    "def break_str(s, k):\n",
    "    words = s.split()\n",
    "    if not words:\n",
    "        return []\n",
    "\n",
    "    current = []\n",
    "    lines = []\n",
    "    for i, word in enumerate(words):\n",
    "        if length(current + [word]) <= k:\n",
    "            current.append(word)\n",
    "        elif length([word]) > k:\n",
    "            return None\n",
    "        else:\n",
    "            lines.append(current)\n",
    "            current = [word]\n",
    "\n",
    "    lines.append(current)\n",
    "    return lines"
   ]
  }
 ],
 "metadata": {
  "kernelspec": {
   "display_name": "Python 3 (ipykernel)",
   "language": "python",
   "name": "python3"
  },
  "language_info": {
   "codemirror_mode": {
    "name": "ipython",
    "version": 3
   },
   "file_extension": ".py",
   "mimetype": "text/x-python",
   "name": "python",
   "nbconvert_exporter": "python",
   "pygments_lexer": "ipython3",
   "version": "3.9.1"
  }
 },
 "nbformat": 4,
 "nbformat_minor": 1
}