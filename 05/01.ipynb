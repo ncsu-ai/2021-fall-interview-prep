{
 "cells": [
  {
   "cell_type": "markdown",
   "metadata": {
    "collapsed": true,
    "pycharm": {
     "name": "#%% md\n"
    }
   },
   "source": [
    "# Rotated Sorted Array (Amazon)\n",
    "##### *Algorithm & Data Structures*\n",
    "\n",
    "A sorted array of integers was rotated an unknown number of times.\n",
    "\n",
    "Given such an array, find the index of an element in the array in faster than linear time. If the element doesn't exist in the array, return null."
   ]
  },
  {
   "cell_type": "code",
   "execution_count": null,
   "metadata": {
    "pycharm": {
     "name": "#%%\n"
    }
   },
   "outputs": [],
   "source": [
    "# Example array:\n",
    "lst = [4, 5, 1, 2, 3]\n",
    "\n",
    "\n",
    "\n",
    "\n",
    "\n",
    "\n",
    "\n",
    "\n",
    "\n",
    "\n",
    "\n",
    "\n",
    "\n",
    "\n"
   ]
  },
  {
   "cell_type": "code",
   "execution_count": 1,
   "metadata": {
    "collapsed": true
   },
   "outputs": [
    {
     "data": {
      "text/html": [
       "<img src='img/search.png'>"
      ],
      "text/plain": [
       "<IPython.core.display.HTML object>"
      ]
     },
     "metadata": {},
     "output_type": "display_data"
    }
   ],
   "source": [
    "from IPython.display import HTML, display\n",
    "display(HTML(\"<img src='img/search.png'>\"))"
   ]
  },
  {
   "cell_type": "markdown",
   "metadata": {
    "pycharm": {
     "name": "#%% md\n"
    }
   },
   "source": [
    "### Solution\n",
    "We can obviously do this problem in linear time if we were to look at each element in the array, however, we need to do it in faster than linear time. A big clue should be that the array of integers was previously sorted, and then rotated. If it was just sorted, we could do a binary search. However, since this array was also rotated, we can't do a regular binary search. We can modify it slightly to work in the context in this problem.\n",
    "\n",
    "In our solution, we first find the rotation point using binary search as follows:\n",
    "\n",
    "1. Check the midpoint for the rotation point (by comparing it to the previous number and seeing if it's larger)\n",
    "2. Move our check up or down the array:\n",
    "    1. If the number we're looking at is larger than the first item in the array, then the rotation must occur later, so add `dist`\n",
    "    2. If not, then it must occur before, so subtract `dist`\n",
    "3. Update `dist` by dividing it by 2 and taking its floor (so it's proper binary search).\n",
    "\n",
    "Then, once we have the rotation point, we can do binary search as usual by remembering to offset the correct amount. Putting everything together, we have:"
   ]
  },
  {
   "cell_type": "code",
   "execution_count": null,
   "metadata": {
    "pycharm": {
     "name": "#%%\n"
    }
   },
   "outputs": [],
   "source": [
    "def shifted_array_search(lst, num):\n",
    "    # First, find where the breaking point is in the shifted array.\n",
    "    i = len(lst) // 2\n",
    "    dist = i // 2\n",
    "\n",
    "    while True:\n",
    "        if lst[0] > lst[i] and lst[i - 1] > lst[i]:\n",
    "            break\n",
    "        elif dist == 0:\n",
    "            break\n",
    "        elif lst[0] <= lst[i]:\n",
    "            i = i + dist\n",
    "        elif lst[i - 1] <= lst[i]:\n",
    "            i = i - dist\n",
    "        else:\n",
    "            break\n",
    "\n",
    "        dist = dist // 2\n",
    "\n",
    "    # Then, do binary search as usual, wrapping around the rotation point found above.\n",
    "    low = i\n",
    "    high = i - 1\n",
    "    dist = len(lst) // 2\n",
    "\n",
    "    while True:\n",
    "        if dist == 0:\n",
    "            return None\n",
    "\n",
    "        guess_ind = (low + dist) % len(lst)\n",
    "        guess = lst[guess_ind]\n",
    "        if guess == num:\n",
    "            return guess_ind\n",
    "\n",
    "        if guess < num:\n",
    "            low = (low + dist) % len(lst)\n",
    "        if guess > num:\n",
    "            high = (len(lst) + high - dist) % len(lst)\n",
    "\n",
    "        dist = dist // 2"
   ]
  },
  {
   "cell_type": "markdown",
   "metadata": {
    "pycharm": {
     "name": "#%% md\n"
    }
   },
   "source": [
    "This solution runs in O(log(n)) time, but this is definitely not the only solution! There are many other possible ways to implement this, but as long as you have the idea of doing binary search, you've got it."
   ]
  }
 ],
 "metadata": {
  "kernelspec": {
   "display_name": "Python 3 (ipykernel)",
   "language": "python",
   "name": "python3"
  },
  "language_info": {
   "codemirror_mode": {
    "name": "ipython",
    "version": 3
   },
   "file_extension": ".py",
   "mimetype": "text/x-python",
   "name": "python",
   "nbconvert_exporter": "python",
   "pygments_lexer": "ipython3",
   "version": "3.9.1"
  }
 },
 "nbformat": 4,
 "nbformat_minor": 1
}
