{
 "cells": [
  {
   "cell_type": "markdown",
   "metadata": {
    "collapsed": true,
    "pycharm": {
     "name": "#%% md\n"
    }
   },
   "source": [
    "# Multiset Partitioning (Facebook)\n",
    "##### *Algorithm & Data Structures*\n",
    "\n",
    "Given a multiset of integers, return whether it can be partitioned into two subsets whose sums are the same.\n",
    "\n",
    "For example, given the multiset $\\{15,\\ 5,\\ 20,\\ 10,\\ 35,\\ 15,\\ 10\\}$, it would return `True` since we can split it up into $\\{15,\\ 5,\\ 10,\\ 15,\\ 10\\}$ and $\\{20,\\ 35\\}$, which both add up to 55.\n",
    "\n",
    "You can assume that there are no spaces at the ends of the string and that there is exactly one space between each word."
   ]
  },
  {
   "cell_type": "code",
   "execution_count": null,
   "metadata": {
    "pycharm": {
     "name": "#%%\n"
    }
   },
   "outputs": [],
   "source": [
    "\n",
    "\n",
    "\n",
    "\n",
    "\n",
    "\n",
    "\n",
    "\n",
    "\n",
    "\n",
    "\n",
    "\n",
    "\n",
    "\n",
    "\n"
   ]
  },
  {
   "cell_type": "markdown",
   "metadata": {
    "pycharm": {
     "name": "#%% md\n"
    }
   },
   "source": [
    "### Solution\n",
    "The naive, brute force solution would be to try every combination of two subsets and check their sums. We could do this by trying to generate each subset of our input set, and then checking the sum of that subset with the sum of everything not in the subset.\n",
    "\n",
    "To speed this up, notice that we really only need to find a subset that adds up to half of the total sum of all the integers. This is because of the pigeonhole principle: if one subset adds up to half of the sum, then the rest of the sum must be made up of the rest of the set.\n",
    "\n",
    "So, we can generate the powerset of our original set and check if any of them sum to `k / 2`, where `k` is the sum of the original set. We know immediately that if `k` is odd, then we can't partition the sets, so we can immediately return `False`.\n",
    "\n",
    "Thus, we have the following code:"
   ]
  },
  {
   "cell_type": "code",
   "execution_count": null,
   "metadata": {
    "pycharm": {
     "name": "#%%\n"
    }
   },
   "outputs": [],
   "source": [
    "def power_set(s):\n",
    "    if not s:\n",
    "        return [[]]\n",
    "    result = power_set(s[1:])\n",
    "    return result + [subset + [s[0]] for subset in result]\n",
    "\n",
    "def partition(s):\n",
    "    k = sum(s)\n",
    "    if k % 2 != 0:\n",
    "        return False\n",
    "\n",
    "    for subset in power_set(s):\n",
    "        if sum(subset) == k / 2:\n",
    "            return True\n",
    "\n",
    "    return False"
   ]
  },
  {
   "cell_type": "markdown",
   "metadata": {
    "pycharm": {
     "name": "#%% md\n"
    }
   },
   "source": [
    "This will run in $O(n * 2^n)$ time though, since we must generate every subset and sum them up. Can we make this any faster?\n",
    "\n",
    "Notice that we've reduced the problem into finding a subset of integers that add up to `k / 2`, which is exactly the same as finding a subset of integers that sum up to `k` (a different `k`).\n",
    "\n",
    "We solved that problem in the past by creating a matrix of size `len(nums) + 1` by `k + 1`, and then using dynamic programming to fill up the matrix. We can do something similar here, except we'll use our `k / 2` as our target.\n",
    "\n",
    "Each entry `A[i][j]` in our matrix will represent whether we can make the integer `i` with the elements of our set from `0` to `j`. So we'll do the following:\n",
    "1. Create a matrix of size `k + 1` by `len(s) + 1` of booleans (all initialized to `False`).\n",
    "2. Initialize the top row to `True`, since we can make `0` with anything (by not picking anything)\n",
    "3. Iterate over the matrix from top-to-bottom, then left-to-right:\n",
    "    1. At each index `A[i][j]`, look at `A[i][j - 1]` or `A[i - last][j - 1]` and set to `True` if any are true.\n",
    "4. Return the value at the bottom-right of the matrix.\n",
    "\n",
    "Thus, we have the following code:"
   ]
  },
  {
   "cell_type": "code",
   "execution_count": 2,
   "metadata": {
    "pycharm": {
     "name": "#%%\n"
    }
   },
   "outputs": [],
   "source": [
    "def partition(s):\n",
    "    # Step 1\n",
    "    k = sum(s)\n",
    "    if k % 2 != 0:\n",
    "        return False\n",
    "    half_k = k // 2\n",
    "\n",
    "    A = [[False for _ in range(len(s) + 1)] for _ in range(half_k + 1)]\n",
    "\n",
    "    # Step 2\n",
    "    for j in range(len(s) + 1):\n",
    "        A[0][j] = True\n",
    "\n",
    "    # Step 3\n",
    "    for i in range(1, half_k + 1):\n",
    "        for j in range(1, len(s) + 1):\n",
    "            using_last = i - s[j - 1]\n",
    "            if using_last >= 0:\n",
    "                A[i][j] = A[i][j - 1] or A[using_last][j - 1]\n",
    "            else:\n",
    "                A[i][j] = A[i][j - 1]\n",
    "\n",
    "    # Step 4\n",
    "    return A[-1][-1]"
   ]
  },
  {
   "cell_type": "markdown",
   "metadata": {
    "pycharm": {
     "name": "#%% md\n"
    }
   },
   "source": [
    "This will take $O(kn)$ time and space, just like in the knapsack problem covered in one of our prep sessions last year.\n",
    "\n",
    "Let's step through this partition function on the multiset $\\{1,\\ 2,\\ 3\\}$."
   ]
  },
  {
   "cell_type": "code",
   "execution_count": 7,
   "metadata": {},
   "outputs": [
    {
     "data": {
      "text/plain": [
       "True"
      ]
     },
     "execution_count": 7,
     "metadata": {},
     "output_type": "execute_result"
    }
   ],
   "source": [
    "multiset = [1, 1, 2]\n",
    "partition(multiset)"
   ]
  },
  {
   "cell_type": "code",
   "execution_count": 8,
   "metadata": {},
   "outputs": [],
   "source": [
    "# After step 1, we have\n",
    "s = [1, 1, 2]\n",
    "k = 6\n",
    "half_k = 3\n",
    "A = [\n",
    "    [False, False, False, False],\n",
    "    [False, False, False, False],\n",
    "    [False, False, False, False],\n",
    "    [False, False, False, False]\n",
    "]\n",
    "\n",
    "# The dimensions of our array are: len(multiset) + 1 by half_k + 1 (4 x 4)\n",
    "\n",
    "\n",
    "# After step 2, we have\n",
    "A = [\n",
    "    [True, True, True, True],\n",
    "    [False, False, False, False],\n",
    "    [False, False, False, False],\n",
    "    [False, False, False, False]\n",
    "]"
   ]
  },
  {
   "cell_type": "markdown",
   "metadata": {},
   "source": [
    "Now we iterate over each element (except the first) of each row in the matrix, starting with row 2 (index = 1)."
   ]
  },
  {
   "cell_type": "code",
   "execution_count": 10,
   "metadata": {},
   "outputs": [
    {
     "data": {
      "text/plain": [
       "True"
      ]
     },
     "execution_count": 10,
     "metadata": {},
     "output_type": "execute_result"
    }
   ],
   "source": [
    "# i = 1, j = 1\n",
    "# using_last = i - s[j - 1]\n",
    "# ::: using_last = 1 - s[0] = 1 - 1 = 0\n",
    "# Since using_last >= 0:\n",
    "# A[i][j] = A[i][j - 1] or A[using_last][j - 1]\n",
    "# ::: A[1][1] = A[1][0] or A[0][0] = False or True = True\n",
    "A = [\n",
    "    [True, True, True, True],\n",
    "    [False, True, False, False],\n",
    "    [False, False, False, False],\n",
    "    [False, False, False, False]\n",
    "]\n",
    "\n",
    "# i = 1, j = 2\n",
    "# using_last = i - s[j - 1]\n",
    "# ::: using_last = 1 - s[1] = 1 - 1 = 0\n",
    "# Since using_last >= 0:\n",
    "# A[i][j] = A[i][j - 1] or A[using_last][j - 1]\n",
    "# ::: A[1][2] = A[1][1] or A[0][1] = True or True = True\n",
    "A = [\n",
    "    [True, True, True, True],\n",
    "    [False, True, True, False],\n",
    "    [False, False, False, False],\n",
    "    [False, False, False, False]\n",
    "]\n",
    "\n",
    "# i = 1, j = 3\n",
    "# using_last = i - s[j - 1]\n",
    "# ::: using_last = 1 - s[2] = 1 - 2 = -1\n",
    "# Since using_last < 0:\n",
    "# A[i][j] = A[i][j - 1]\n",
    "# ::: A[1][2] = A[1][2] = True\n",
    "A = [\n",
    "    [True, True, True, True],\n",
    "    [False, True, True, True],\n",
    "    [False, False, False, False],\n",
    "    [False, False, False, False]\n",
    "]\n",
    "\n",
    "# i = 2, j = 1\n",
    "# using_last = i - s[j - 1]\n",
    "# ::: using_last = 2 - s[0] = 2 - 1 = 1\n",
    "# Since using_last >= 0:\n",
    "# A[i][j] = A[i][j - 1] or A[using_last][j - 1]\n",
    "# ::: A[2][1] = A[2][0] or A[1][0] = False or False = False\n",
    "A = [\n",
    "    [True, True, True, True],\n",
    "    [False, True, True, True],\n",
    "    [False, False, False, False],\n",
    "    [False, False, False, False]\n",
    "]\n",
    "\n",
    "# i = 2, j = 2\n",
    "# using_last = i - s[j - 1]\n",
    "# ::: using_last = 2 - s[1] = 2 - 1 = 1\n",
    "# Since using_last >= 0:\n",
    "# A[i][j] = A[i][j - 1] or A[using_last][j - 1]\n",
    "# ::: A[2][2] = A[2][1] or A[1][1] = False or True = True\n",
    "A = [\n",
    "    [True, True, True, True],\n",
    "    [False, True, True, True],\n",
    "    [False, False, True, False],\n",
    "    [False, False, False, False]\n",
    "]\n",
    "\n",
    "# i = 2, j = 3\n",
    "# using_last = i - s[j - 1]\n",
    "# ::: using_last = 2 - s[2] = 2 - 2 = 0\n",
    "# Since using_last >= 0:\n",
    "# A[i][j] = A[i][j - 1] or A[using_last][j - 1]\n",
    "# ::: A[2][3] = A[2][2] or A[0][2] = True or True = True\n",
    "A = [\n",
    "    [True, True, True, True],\n",
    "    [False, True, True, True],\n",
    "    [False, False, True, True],\n",
    "    [False, False, False, False]\n",
    "]\n",
    "\n",
    "# i = 3, j = 1\n",
    "# using_last = i - s[j - 1]\n",
    "# ::: using_last = 3 - s[0] = 3 - 1 = 2\n",
    "# Since using_last >= 0:\n",
    "# A[i][j] = A[i][j - 1] or A[using_last][j - 1]\n",
    "# ::: A[3][1] = A[3][0] or A[2][0] = False or False = False\n",
    "A = [\n",
    "    [True, True, True, True],\n",
    "    [False, True, True, True],\n",
    "    [False, False, True, True],\n",
    "    [False, False, False, False]\n",
    "]\n",
    "\n",
    "# i = 3, j = 2\n",
    "# using_last = i - s[j - 1]\n",
    "# ::: using_last = 3 - s[1] = 3 - 1 = 2\n",
    "# Since using_last >= 0:\n",
    "# A[i][j] = A[i][j - 1] or A[using_last][j - 1]\n",
    "# ::: A[3][2] = A[3][1] or A[2][1] = False or False = False\n",
    "A = [\n",
    "    [True, True, True, True],\n",
    "    [False, True, True, True],\n",
    "    [False, False, True, True],\n",
    "    [False, False, False, False]\n",
    "]\n",
    "\n",
    "# i = 3, j = 3\n",
    "# using_last = i - s[j - 1]\n",
    "# ::: using_last = 3 - s[2] = 3 - 2 = 1\n",
    "# Since using_last >= 0:\n",
    "# A[i][j] = A[i][j - 1] or A[using_last][j - 1]\n",
    "# ::: A[3][3] = A[3][2] or A[1][2] = False or True = True\n",
    "A = [\n",
    "    [True, True, True, True],\n",
    "    [False, True, True, True],\n",
    "    [False, False, True, True],\n",
    "    [False, False, False, True]\n",
    "]\n",
    "\n",
    "# Finally, in step 4 we return A[-1][-1]\n",
    "A[-1][-1]"
   ]
  },
  {
   "cell_type": "markdown",
   "metadata": {},
   "source": [
    "This is an example of dynamic programming! It is a concept which is relatively difficult to wrap one's head around at first, but I think the following excerpt from [this GeeksforGeeks article](https://www.geeksforgeeks.org/dynamic-programming/) sums it up well:\n",
    "\n",
    "> Dynamic Programming is mainly an optimization over plain [recursion](https://www.geeksforgeeks.org/recursion/). Wherever we see a recursive solution that has repeated calls for same inputs, we can optimize it using Dynamic Programming. The idea is to simply store the results of subproblems, so that we do not have to re-compute them when needed later. This simple optimization reduces time complexities from exponential to polynomial. For example, if we write a simple recursive solution for [Fibonacci Numbers](https://www.geeksforgeeks.org/program-for-nth-fibonacci-number/), we get exponential time complexity and if we optimize it by storing solutions of subproblems, time complexity reduces to linear."
   ]
  }
 ],
 "metadata": {
  "kernelspec": {
   "display_name": "Python 3 (ipykernel)",
   "language": "python",
   "name": "python3"
  },
  "language_info": {
   "codemirror_mode": {
    "name": "ipython",
    "version": 3
   },
   "file_extension": ".py",
   "mimetype": "text/x-python",
   "name": "python",
   "nbconvert_exporter": "python",
   "pygments_lexer": "ipython3",
   "version": "3.9.1"
  }
 },
 "nbformat": 4,
 "nbformat_minor": 1
}
