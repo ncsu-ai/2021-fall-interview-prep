{
 "cells": [
  {
   "cell_type": "markdown",
   "metadata": {
    "collapsed": true,
    "pycharm": {
     "name": "#%% md\n"
    }
   },
   "source": [
    "# Shortest Distance in a Plane (Airbnb)\n",
    "##### *SQL*\n",
    "\n",
    "Table `point_2d` holds the coordinates (x, y) of some unique points in a plane. Write a query to find the shortest distance between any of the two points, rounded to two decimal places."
   ]
  },
  {
   "cell_type": "code",
   "execution_count": null,
   "metadata": {
    "pycharm": {
     "name": "#%%\n"
    }
   },
   "outputs": [],
   "source": [
    "from IPython.display import HTML, display\n",
    "display(HTML(\"<table><tr><td><img src='img/table.png'></td><td><img src='img/result.png'></td></tr></table>\"))"
   ]
  },
  {
   "cell_type": "code",
   "execution_count": null,
   "metadata": {
    "pycharm": {
     "name": "#%%\n"
    }
   },
   "outputs": [],
   "source": [
    "\n",
    "\n",
    "\n",
    "\n",
    "\n",
    "\n",
    "\n",
    "\n",
    "\n",
    "\n",
    "\n",
    "\n",
    "\n",
    "\n",
    "\n",
    "\n",
    "\n",
    "\n",
    "\n",
    "\n",
    "\n",
    "\n",
    "\n"
   ]
  },
  {
   "cell_type": "markdown",
   "metadata": {
    "pycharm": {
     "name": "#%% md\n"
    }
   },
   "source": [
    "### Solution"
   ]
  },
  {
   "cell_type": "markdown",
   "metadata": {},
   "source": [
    "The solution below makes use of an [SQL cross join](https://docs.microsoft.com/en-us/u-sql/statements-and-expressions/select/from/joins/cross-join). The bulk of the query, which calculates Euclidean distances between all unique combinations of points resulting from cross-joining `table_2d` with itself, is wrapped by another query which simply retrieves the shortest distance from the sub-query and rounds it to the specified two decimal places.\n",
    "\n",
    "For those unfamiliar with the term, the Euclidean distance between any two points in 2-d space, say $(x_1,y_1)$ and $(x_2,y_2)$, is\n",
    "\n",
    "$$\\sqrt{(x_1-x_2)^2+(y_1-y_2)^2}.$$"
   ]
  },
  {
   "cell_type": "code",
   "execution_count": null,
   "metadata": {
    "pycharm": {
     "name": "#%%\n"
    }
   },
   "outputs": [],
   "source": [
    "\"\"\"\n",
    "select round(a.shortest, 2) as shortest\n",
    "from (\n",
    "    select sqrt(pow((p1.x - p2.x), 2) + pow((p1.y - p2.y), 2))\n",
    "    as shortest\n",
    "    from point_2d as p1\n",
    "    cross join point_2d as p2\n",
    "    where p1.x != p2.x or p1.y != p2.y\n",
    "    order by sqrt(pow((p1.x - p2.x), 2) + pow((p1.y - p2.y), 2))\n",
    "    limit 1\n",
    ") as a\n",
    "\"\"\""
   ]
  }
 ],
 "metadata": {
  "kernelspec": {
   "display_name": "Python 3 (ipykernel)",
   "language": "python",
   "name": "python3"
  },
  "language_info": {
   "codemirror_mode": {
    "name": "ipython",
    "version": 3
   },
   "file_extension": ".py",
   "mimetype": "text/x-python",
   "name": "python",
   "nbconvert_exporter": "python",
   "pygments_lexer": "ipython3",
   "version": "3.9.1"
  }
 },
 "nbformat": 4,
 "nbformat_minor": 1
}