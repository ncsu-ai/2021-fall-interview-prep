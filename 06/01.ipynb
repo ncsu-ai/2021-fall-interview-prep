{
 "cells": [
  {
   "cell_type": "markdown",
   "metadata": {
    "collapsed": true,
    "pycharm": {
     "name": "#%% md\n"
    }
   },
   "source": [
    "# Integer Exponentiation (Google)\n",
    "##### *Algorithms & Data Structures*\n",
    "\n",
    "Implement integer exponentiation. That is, implement the `pow(x, y)` function, where `x` and `y` are integers and returns $x^y$.\n",
    "\n",
    "Do this faster than the naive method of repeated multiplication."
   ]
  },
  {
   "cell_type": "code",
   "execution_count": null,
   "metadata": {
    "pycharm": {
     "name": "#%%\n"
    }
   },
   "outputs": [],
   "source": [
    "\n",
    "\n",
    "\n",
    "\n",
    "\n",
    "\n",
    "\n",
    "\n",
    "\n",
    "\n",
    "\n",
    "\n",
    "\n",
    "\n"
   ]
  },
  {
   "cell_type": "markdown",
   "metadata": {
    "pycharm": {
     "name": "#%% md\n"
    }
   },
   "source": [
    "### Solution\n",
    "Implementing exponentiation naively is quite straightforward. We can either do it iteratively:"
   ]
  },
  {
   "cell_type": "code",
   "execution_count": null,
   "outputs": [],
   "source": [
    "def power(x, y):\n",
    "    if y < 0:\n",
    "        base = 1 / x\n",
    "        exp = -y\n",
    "    else:\n",
    "        base = x\n",
    "        exp = y\n",
    "\n",
    "    result = 1\n",
    "    for _ in range(exp):\n",
    "        result *= base\n",
    "\n",
    "    return result"
   ],
   "metadata": {
    "collapsed": false,
    "pycharm": {
     "name": "#%%\n"
    }
   }
  },
  {
   "cell_type": "markdown",
   "source": [
    "or recursively:"
   ],
   "metadata": {
    "collapsed": false,
    "pycharm": {
     "name": "#%% md\n"
    }
   }
  },
  {
   "cell_type": "code",
   "execution_count": null,
   "outputs": [],
   "source": [
    "def power(x, y):\n",
    "    if y < 0:\n",
    "        return power(1 / x, -y)\n",
    "    elif y == 0:\n",
    "        return 1\n",
    "    else:\n",
    "        return x * power(x, y - 1)"
   ],
   "metadata": {
    "collapsed": false,
    "pycharm": {
     "name": "#%%\n"
    }
   }
  },
  {
   "cell_type": "markdown",
   "source": [
    "Just remember to deal with negative exponents!\n",
    "\n",
    "However, we need to do faster than just naive multiplication. How can we do this?\n",
    "\n",
    "Notice that the main bottleneck in performance is doing multiplications `y` times. Since the process of multiplication takes about the same amount of time regardless of the actual sizes of the numbers, we should look at trying to move some of the work from the exponent to the base.\n",
    "\n",
    "We can rewrite $x^y$ as the following:\n",
    "- if $y$ is even, then $x^y=(x^2)^{y/2}$\n",
    "- if $y$ is odd, then $x^y=x*(x^2)^{(y-1) / 2}$\n",
    "\n",
    "Now, by squaring the base, we have half as many multiplications to do! Let's go through an example. Say we want to compute $2^20$. We can then do it as follows:\n",
    "\n",
    "$$2^{20}=4^{10}=16^5=16\\times256^2=16\\times256\\times256$$\n",
    "\n",
    "We've reduced the number of multiplications we need to do from 20 to 4. Let's code it up!\n",
    "\n",
    "Again, we can do this iteratively:"
   ],
   "metadata": {
    "collapsed": false,
    "pycharm": {
     "name": "#%% md\n"
    }
   }
  },
  {
   "cell_type": "code",
   "execution_count": null,
   "outputs": [],
   "source": [
    "def power(x, y):\n",
    "    base = x\n",
    "    exp = y\n",
    "    if y < 0:\n",
    "        base = 1 / x\n",
    "        exp = -y\n",
    "\n",
    "    coeff = 1\n",
    "    while exp > 1:\n",
    "        if exp % 2 == 0:\n",
    "            base *= base\n",
    "            exp = exp // 2\n",
    "        else:\n",
    "            coeff *= base\n",
    "            base *= base\n",
    "            exp = (exp - 1) // 2\n",
    "\n",
    "    return coeff * base"
   ],
   "metadata": {
    "collapsed": false,
    "pycharm": {
     "name": "#%%\n"
    }
   }
  },
  {
   "cell_type": "markdown",
   "source": [
    "Or recursively, although it takes up more space on the call stack:"
   ],
   "metadata": {
    "collapsed": false,
    "pycharm": {
     "name": "#%% md\n"
    }
   }
  },
  {
   "cell_type": "code",
   "execution_count": null,
   "outputs": [],
   "source": [
    "def power(x, y):\n",
    "    if y < 0:\n",
    "        return power(1 / x, -y)\n",
    "    elif y == 0:\n",
    "        return 1\n",
    "    elif y == 1:\n",
    "        return x\n",
    "    elif y % 2 == 0:\n",
    "        return power(x**2, y // 2)\n",
    "    else: # y is odd\n",
    "        return x * power(x**2, y // 2)"
   ],
   "metadata": {
    "collapsed": false,
    "pycharm": {
     "name": "#%%\n"
    }
   }
  },
  {
   "cell_type": "markdown",
   "source": [
    "Since we're nearly halving the number of multiplications we need to do at each step, this will run in O(log y) time."
   ],
   "metadata": {
    "collapsed": false,
    "pycharm": {
     "name": "#%% md\n"
    }
   }
  }
 ],
 "metadata": {
  "kernelspec": {
   "display_name": "Python 3 (ipykernel)",
   "language": "python",
   "name": "python3"
  },
  "language_info": {
   "codemirror_mode": {
    "name": "ipython",
    "version": 3
   },
   "file_extension": ".py",
   "mimetype": "text/x-python",
   "name": "python",
   "nbconvert_exporter": "python",
   "pygments_lexer": "ipython3",
   "version": "3.9.1"
  }
 },
 "nbformat": 4,
 "nbformat_minor": 1
}