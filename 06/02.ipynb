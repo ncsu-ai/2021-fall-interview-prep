{
 "cells": [
  {
   "cell_type": "markdown",
   "metadata": {
    "collapsed": true,
    "pycharm": {
     "name": "#%% md\n"
    }
   },
   "source": [
    "# N by M Matrix Traversal (Facebook)\n",
    "##### *Algorithms & Data Structures*\n",
    "\n",
    "There is an `N` by `M` matrix of zeroes. Given `N` and `M`, write a function to count the number of ways starting in the top-left corner and getting to the bottom-right corner. You can only move right and down.\n",
    "\n",
    "For example, given a 2 by 2 matrix, you should return true, since there are two ways to get to the bottom-right: 1) right, then down; 2) down, then right."
   ]
  },
  {
   "cell_type": "code",
   "execution_count": null,
   "outputs": [],
   "source": [
    "matrix = [\n",
    "    [0, 0],\n",
    "    [0, 0],\n",
    "]\n",
    "\n",
    "[\n",
    "    [1, 1],\n",
    "    [0, 1],\n",
    "]\n",
    "\n",
    "[\n",
    "    [1, 0],\n",
    "    [1, 1],\n",
    "]\n",
    "\n",
    "\n",
    "\n",
    "\n",
    "\n",
    "\n",
    "\n"
   ],
   "metadata": {
    "collapsed": false,
    "pycharm": {
     "name": "#%%\n"
    }
   }
  },
  {
   "cell_type": "markdown",
   "source": [
    "### Solution\n",
    "Notice that, to get to any cell, we only have two ways: either directly from above, or from the left. If we're unable to go up or left anymore, then there's only one way. This leads to the following recurrence:\n",
    "- If either `N` or `M` is 1, then return 1\n",
    "- Otherwise, `f(n, m) = f(n - 1, m) + f(n, m - 1)`\n",
    "\n",
    "The recursive solution then looks like this:"
   ],
   "metadata": {
    "collapsed": false,
    "pycharm": {
     "name": "#%% md\n"
    }
   }
  },
  {
   "cell_type": "code",
   "execution_count": 1,
   "outputs": [
    {
     "ename": "IndentationError",
     "evalue": "expected an indented block (Temp/ipykernel_7820/1436851514.py, line 1)",
     "output_type": "error",
     "traceback": [
      "\u001B[1;36m  File \u001B[1;32m\"C:\\Users\\epman\\AppData\\Local\\Temp/ipykernel_7820/1436851514.py\"\u001B[1;36m, line \u001B[1;32m1\u001B[0m\n\u001B[1;33m    def num_ways(n, m):\u001B[0m\n\u001B[1;37m                       ^\u001B[0m\n\u001B[1;31mIndentationError\u001B[0m\u001B[1;31m:\u001B[0m expected an indented block\n"
     ]
    }
   ],
   "source": [
    "def num_ways(n, m):\n",
    "    if n == 1 or m == 1:\n",
    "        return 1\n",
    "\n",
    "    return num_ways(n - 1, m) + num_ways(n, m - 1)"
   ],
   "metadata": {
    "collapsed": false,
    "pycharm": {
     "name": "#%%\n"
    }
   }
  },
  {
   "cell_type": "markdown",
   "source": [
    "However, just like in the staircase problem (or fibonacci), we will have a lot of repeated sub-computations. So, let's use bottom-up dynamic programming to store those results.\n",
    "\n",
    "We'll initialize an `N` by `M` matrix `A`, for which each entry `A[i][j]` will contain the number of ways we can get to that entry from the top-left. Then, once we've filled up the matrix using our recurrence (by checking directly above or directly left), we can just look at the bottom-right value to get our answer."
   ],
   "metadata": {
    "collapsed": false,
    "pycharm": {
     "name": "#%% md\n"
    }
   }
  },
  {
   "cell_type": "code",
   "execution_count": null,
   "outputs": [],
   "source": [
    "def num_ways(n, m):\n",
    "    A = [[0 for _ in range(m)] for _ in range(n)]\n",
    "    for i in range(n):\n",
    "        A[i][0] = 1\n",
    "    for j in range(m):\n",
    "        A[0][j] = 1\n",
    "    for i in range(1, n):\n",
    "        for j in range(1, m):\n",
    "            A[i][j] = A[i - 1][j] + A[i][j - 1]\n",
    "    return A[-1][-1]"
   ],
   "metadata": {
    "collapsed": false,
    "pycharm": {
     "name": "#%%\n"
    }
   }
  },
  {
   "cell_type": "markdown",
   "source": [
    "This solution runs in O(N * M) time and space."
   ],
   "metadata": {
    "collapsed": false,
    "pycharm": {
     "name": "#%% md\n"
    }
   }
  }
 ],
 "metadata": {
  "kernelspec": {
   "display_name": "Python 3 (ipykernel)",
   "language": "python",
   "name": "python3"
  },
  "language_info": {
   "codemirror_mode": {
    "name": "ipython",
    "version": 3
   },
   "file_extension": ".py",
   "mimetype": "text/x-python",
   "name": "python",
   "nbconvert_exporter": "python",
   "pygments_lexer": "ipython3",
   "version": "3.9.1"
  }
 },
 "nbformat": 4,
 "nbformat_minor": 1
}