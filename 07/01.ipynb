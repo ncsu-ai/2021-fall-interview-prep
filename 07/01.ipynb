{
 "cells": [
  {
   "cell_type": "markdown",
   "metadata": {
    "collapsed": true,
    "pycharm": {
     "name": "#%% md\n"
    }
   },
   "source": [
    "# 2D Matrix Target Word Finding (Microsoft)\n",
    "##### *Algorithms & Data Structures*\n",
    "\n",
    "Given a 2D matrix of characters and a target word, write a function that returns whether the word can be found in the matrix by going left-to-right, or top-to-bottom.\n",
    "\n",
    "For example, given the below matrix and the target word 'FOAM', you should return True since it can be found in the leftmost column of the matrix."
   ]
  },
  {
   "cell_type": "code",
   "execution_count": null,
   "outputs": [],
   "source": [
    "[['F', 'A', 'C', 'I'],\n",
    " ['O', 'B', 'Q', 'P'],\n",
    " ['A', 'N', 'O', 'B'],\n",
    " ['M', 'A', 'S', 'S']]"
   ],
   "metadata": {
    "collapsed": false,
    "pycharm": {
     "name": "#%%\n"
    }
   }
  },
  {
   "cell_type": "code",
   "execution_count": null,
   "metadata": {
    "pycharm": {
     "name": "#%%\n"
    }
   },
   "outputs": [],
   "source": [
    "\n",
    "\n",
    "\n",
    "\n",
    "\n",
    "\n",
    "\n",
    "\n",
    "\n",
    "\n",
    "\n",
    "\n",
    "\n",
    "\n"
   ]
  },
  {
   "cell_type": "markdown",
   "metadata": {
    "pycharm": {
     "name": "#%% md\n"
    }
   },
   "source": [
    "### Solution\n",
    "This problem should be quite straightforward: we can go through each entry in the array, try to create the word going right and down, and check if the word matches our word. To make bounds checking simple, we'll just try to grab everything from where we're looking at till the end, and the use the slice operator to just get what we want."
   ]
  },
  {
   "cell_type": "code",
   "execution_count": null,
   "outputs": [],
   "source": [
    "def build_word_right(matrix, r, c, length):\n",
    "    return ''.join([matrix[r][i] for i in range(c, len(matrix[0]))])[:length]\n",
    "\n",
    "def build_word_down(matrix, r, c, length):\n",
    "    return ''.join([matrix[i][c] for i in range(r, len(matrix))])[:length]\n",
    "\n",
    "def word_search(matrix, word):\n",
    "    for r in range(len(matrix)):\n",
    "        for c in range(len(matrix[0])):\n",
    "            word_right = build_word_right(matrix, r, c, len(word))\n",
    "            word_down = build_word_down(matrix, r, c, len(word))\n",
    "            if word in (word_right, word_down):\n",
    "                return True\n",
    "    return False"
   ],
   "metadata": {
    "collapsed": false,
    "pycharm": {
     "name": "#%%\n"
    }
   }
  },
  {
   "cell_type": "markdown",
   "source": [
    "However, if the matrix was very big, then we would be grabbing the whole row or column just to shorten it. We can improve our `build_word_right(...)` and `build_word_down(...)` functions a bit by just taking what we need, which is whichever of the length of the word and the end of the row or column is shorter:"
   ],
   "metadata": {
    "collapsed": false,
    "pycharm": {
     "name": "#%% md\n"
    }
   }
  },
  {
   "cell_type": "code",
   "execution_count": null,
   "outputs": [],
   "source": [
    "def build_word_right(matrix, r, c, length):\n",
    "    row_len = len(matrix[0])\n",
    "    return ''.join([matrix[r][i] for i in range(c, min(row_len, length))])\n",
    "\n",
    "def build_word_down(matrix, r, c, length):\n",
    "    col_len = len(matrix)\n",
    "    return ''.join([matrix[i][c] for i in range(r, min(col_len, length))])"
   ],
   "metadata": {
    "collapsed": false,
    "pycharm": {
     "name": "#%%\n"
    }
   }
  },
  {
   "cell_type": "markdown",
   "source": [
    "Now, however, let's say our word and matrix were both very big. When we're checking the current row or column, if we notice that the first few letters are off, then we can quit the search early.\n",
    "\n",
    "The Python built-in `zip(...)` function comes in handy here:"
   ],
   "metadata": {
    "collapsed": false,
    "pycharm": {
     "name": "#%% md\n"
    }
   }
  },
  {
   "cell_type": "code",
   "execution_count": null,
   "outputs": [],
   "source": [
    "def check_word_right(matrix, r, c, word):\n",
    "    word_len = len(word)\n",
    "    row_len = len(matrix[0])\n",
    "    if word_len != row_len - c:\n",
    "        return False\n",
    "    for c1, c2 in zip(word, (matrix[r][i] for i in range(c, row_len))):\n",
    "        if c1 != c2:\n",
    "            return False\n",
    "    return True\n",
    "\n",
    "def check_word_down(matrix, r, c, word):\n",
    "    word_len = len(word)\n",
    "    col_len = len(matrix)\n",
    "    if word_len != col_len - r:\n",
    "        return False\n",
    "    for c1, c2 in zip(word, (matrix[i][c] for i in range(r, col_len))):\n",
    "        if c1 != c2:\n",
    "            return False\n",
    "    return True\n",
    "\n",
    "def word_search(matrix, word):\n",
    "    for r, row in enumerate(matrix):\n",
    "        for c, val in enumerate(row):\n",
    "            if check_word_right(matrix, r, c, word):\n",
    "                return True\n",
    "            if check_word_down(matrix, r, c, word):\n",
    "                return True\n",
    "    return False"
   ],
   "metadata": {
    "collapsed": false,
    "pycharm": {
     "name": "#%%\n"
    }
   }
  }
 ],
 "metadata": {
  "kernelspec": {
   "display_name": "Python 3 (ipykernel)",
   "language": "python",
   "name": "python3"
  },
  "language_info": {
   "codemirror_mode": {
    "name": "ipython",
    "version": 3
   },
   "file_extension": ".py",
   "mimetype": "text/x-python",
   "name": "python",
   "nbconvert_exporter": "python",
   "pygments_lexer": "ipython3",
   "version": "3.9.1"
  }
 },
 "nbformat": 4,
 "nbformat_minor": 1
}