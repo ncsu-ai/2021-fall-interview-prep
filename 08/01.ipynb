{
 "cells": [
  {
   "cell_type": "markdown",
   "metadata": {
    "collapsed": true,
    "pycharm": {
     "name": "#%% md\n"
    }
   },
   "source": [
    "# Matrix in Clockwise Spiral (Amazon)\n",
    "##### *Algorithms & Data Structures*\n",
    "\n",
    "Given an `N` by `M` matrix of numbers, print out the matrix in a clockwise spiral.\n",
    "\n",
    "For example, given the below matrix:"
   ]
  },
  {
   "cell_type": "code",
   "execution_count": 1,
   "metadata": {
    "pycharm": {
     "name": "#%%\n"
    }
   },
   "outputs": [
    {
     "data": {
      "text/html": [
       "<img src=\"img/matrix.png\"></img>"
      ]
     },
     "metadata": {},
     "output_type": "display_data"
    }
   ],
   "source": [
    "from IPython.display import display_html, HTML\n",
    "display_html(HTML('<img src=\"img/matrix.png\"></img>'))"
   ]
  },
  {
   "cell_type": "markdown",
   "metadata": {
    "pycharm": {
     "name": "#%% md\n"
    }
   },
   "source": [
    "we should print out the following:\n",
    "\n",
    "`1 2 3 4 5 10 15 20 19 18 17 16 11 6 7 8 9 14 13 12`"
   ]
  },
  {
   "cell_type": "code",
   "execution_count": null,
   "metadata": {
    "pycharm": {
     "name": "#%%\n"
    }
   },
   "outputs": [],
   "source": [
    "\n",
    "\n",
    "\n",
    "\n",
    "\n",
    "\n",
    "\n",
    "\n",
    "\n",
    "\n",
    "\n",
    "\n",
    "\n",
    "\n"
   ]
  },
  {
   "cell_type": "markdown",
   "metadata": {
    "pycharm": {
     "name": "#%% md\n"
    }
   },
   "source": [
    "### Solution\n",
    "As you might imagine, there are many possible solutions for this problem. Ours involves keeping track of our current position and direction. As we move along and print each value, we set it to `None`. Then, once we've either hit the edge or another `None` value (indicating we've seen it before), we change directions counter-clockwise and keep going.\n",
    "\n",
    "We use a class to manage directions, an enum to define those directions, and two helper functions `next_position(...)` and `should_change_direction(...)` to help us lay out the code cleanly."
   ]
  },
  {
   "cell_type": "code",
   "execution_count": 24,
   "metadata": {
    "pycharm": {
     "name": "#%%\n"
    },
    "scrolled": false
   },
   "outputs": [
    {
     "name": "stdout",
     "output_type": "stream",
     "text": [
      "1 2 3 4 5 10 15 20 19 18 17 16 11 6 7 8 9 14 13 12\n"
     ]
    }
   ],
   "source": [
    "from enum import Enum\n",
    "from itertools import cycle\n",
    "\n",
    "\n",
    "class DirectionHelper:\n",
    "    class DirectionDelta(Enum):\n",
    "        RIGHT = (0, 1)\n",
    "        DOWN = (1, 0)\n",
    "        LEFT = (0, -1)\n",
    "        UP = (-1, 0)\n",
    "\n",
    "    def __init__(self):\n",
    "        self._dirs = cycle(self.DirectionDelta.__members__.items())\n",
    "\n",
    "    def next(self):\n",
    "        return next(self._dirs)[1].value\n",
    "\n",
    "\n",
    "    \n",
    "def next_position(position, delta):\n",
    "    return tuple([a + b for a, b in zip(position, delta)])\n",
    "    \n",
    "def should_change_direction(M, r, c):\n",
    "    in_bounds_r = 0 <= r < len(M)\n",
    "    in_bounds_c = 0 <= c < len(M[0])\n",
    "    return not in_bounds_r or not in_bounds_c or M[r][c] is None\n",
    "\n",
    "\n",
    "def matrix_spiral_print(M):\n",
    "    dir_helper = DirectionHelper()\n",
    "    \n",
    "    remaining = len(M) * len(M[0])\n",
    "    current_dir = dir_helper.next()\n",
    "    current_pos = (0, 0)\n",
    "    \n",
    "    spiral = []\n",
    "    while remaining > 0:\n",
    "        r, c = current_pos\n",
    "        spiral.append(str(M[r][c]))\n",
    "        \n",
    "        M[r][c] = None\n",
    "        remaining -= 1\n",
    "        \n",
    "        next_pos = next_position(current_pos, current_dir)\n",
    "        if should_change_direction(M, *next_pos):\n",
    "            current_dir = dir_helper.next()\n",
    "            current_pos = next_position(current_pos, current_dir)\n",
    "        else:\n",
    "            current_pos = next_pos\n",
    "            \n",
    "    print(' '.join(spiral))\n",
    "\n",
    "\n",
    "test = [\n",
    "    [ 1,  2,  3,  4,  5],\n",
    "    [ 6,  7,  8,  9, 10],\n",
    "    [11, 12, 13, 14, 15],\n",
    "    [16, 17, 18, 19, 20],\n",
    "]\n",
    "\n",
    "matrix_spiral_print(test)"
   ]
  },
  {
   "cell_type": "markdown",
   "metadata": {
    "pycharm": {
     "name": "#%% md\n"
    }
   },
   "source": [
    "This solution takes $O(M\\cdot N)$ time."
   ]
  }
 ],
 "metadata": {
  "kernelspec": {
   "display_name": "Python 3 (ipykernel)",
   "language": "python",
   "name": "python3"
  },
  "language_info": {
   "codemirror_mode": {
    "name": "ipython",
    "version": 3
   },
   "file_extension": ".py",
   "mimetype": "text/x-python",
   "name": "python",
   "nbconvert_exporter": "python",
   "pygments_lexer": "ipython3",
   "version": "3.9.1"
  }
 },
 "nbformat": 4,
 "nbformat_minor": 1
}