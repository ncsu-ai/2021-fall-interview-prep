{
 "cells": [
  {
   "cell_type": "markdown",
   "metadata": {
    "collapsed": true,
    "pycharm": {
     "name": "#%% md\n"
    }
   },
   "source": [
    "# F1 Score (Pinterest)\n",
    "##### *AI/ML Domain*\n",
    "\n",
    "What is an F1 score? What intuition does it give to data scientists?"
   ]
  },
  {
   "cell_type": "code",
   "execution_count": null,
   "metadata": {
    "pycharm": {
     "name": "#%%\n"
    }
   },
   "outputs": [],
   "source": [
    "\n",
    "\n",
    "\n",
    "\n",
    "\n",
    "\n",
    "\n",
    "\n",
    "\n",
    "\n",
    "\n",
    "\n",
    "\n",
    "\n",
    "\n",
    "\n",
    "\n",
    "\n",
    "\n"
   ]
  },
  {
   "cell_type": "markdown",
   "metadata": {
    "pycharm": {
     "name": "#%% md\n"
    }
   },
   "source": [
    "### Solution"
   ]
  },
  {
   "cell_type": "markdown",
   "metadata": {},
   "source": [
    "F1 score can be defined as follows:\n",
    "> The F1 score is the harmonic mean of the precision and recall, where an F1 score reaches its best value at 1 (perfect precision and recall). It is also known as the \"Dice Similarity Coefficient.\"\n",
    "\n",
    "The metric is used widely, since it gives equal importance to precision and recall. In practice, however, different types of mis-classifications incur different costs. In other words, the relative importance of precision and recall is a property of the problem.\n",
    "\n",
    "\n",
    "##### Refresher on Precision & Recall\n",
    "\n",
    "Precision measures the proportion of positive identifications that were correct, i.e.:\n",
    "$$\\text{Precision}=\\frac{TP}{TP+FP}$$\n",
    "\n",
    "Recall measures the proportion of actual positives that were correctly identified, i.e.:\n",
    "$$\\text{Recall}=\\frac{TP}{TP+FN}$$\n",
    "\n",
    "You can read more [here](https://developers.google.com/machine-learning/crash-course/classification/precision-and-recall)."
   ]
  }
 ],
 "metadata": {
  "kernelspec": {
   "display_name": "Python 3 (ipykernel)",
   "language": "python",
   "name": "python3"
  },
  "language_info": {
   "codemirror_mode": {
    "name": "ipython",
    "version": 3
   },
   "file_extension": ".py",
   "mimetype": "text/x-python",
   "name": "python",
   "nbconvert_exporter": "python",
   "pygments_lexer": "ipython3",
   "version": "3.9.1"
  }
 },
 "nbformat": 4,
 "nbformat_minor": 1
}