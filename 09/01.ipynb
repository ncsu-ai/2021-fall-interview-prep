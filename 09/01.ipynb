{
 "cells": [
  {
   "cell_type": "markdown",
   "metadata": {
    "collapsed": true,
    "pycharm": {
     "name": "#%% md\n"
    }
   },
   "source": [
    "# LFU Cache (Google)\n",
    "##### *Algorithms & Data Structures*\n",
    "\n",
    "Implement an LFU cache. It should be able to be initialized with a cache size `n`, and contain the following methods that should run in $O(1)$ time:\n",
    "\n",
    "- `set(key, value)` - sets key to value. If there are already `n` items in the cache and we are adding a new item, then it should also remove the least frequently used item. If there is a tie, then the least recently used key should be removed.\n",
    "\n",
    "- `get(key)` - gets the value at key. If no such key exists, return null."
   ]
  },
  {
   "cell_type": "code",
   "execution_count": null,
   "metadata": {
    "pycharm": {
     "name": "#%%\n"
    }
   },
   "outputs": [],
   "source": [
    "\n",
    "\n",
    "\n",
    "\n",
    "\n",
    "\n",
    "\n",
    "\n",
    "\n",
    "\n",
    "\n",
    "\n",
    "\n",
    "\n",
    "\n",
    "\n",
    "\n"
   ]
  },
  {
   "cell_type": "markdown",
   "metadata": {
    "pycharm": {
     "name": "#%% md\n"
    }
   },
   "source": [
    "### Solution\n",
    "This problem is similar to the LRU cache problem covered in an earlier session this semester, but requires a different perspective. In that problem, we used a doubly linked list of nodes and a hash table that mapped keys to the nodes. When we evicted an entry from the cache, we just had to look at the head of the linked list.\n",
    "\n",
    "In this solution, we keep two dictionaries: one mapping from keys to values (and their frequencies), and another mapping from frequency counts to a deque of keys.\n",
    "\n",
    "When we set a key, we first check if we need to evict another key. If we do, then we'll look at the entry in our frequency map with the lowest frequency and pop from the left (since we'll be appending, the left will be the least recently used entry). Then we can add our mapping to the `dict`'s: we'll add our key and value (along with a frequency of one) to our value mapping, and also to our frequency mapping at key 1.\n",
    "\n",
    "If we're updating a key (the key already exists), then it's a different story. Here, we will need to basically only update the value mapping by setting a new value and increment the frequency. For the frequency mapping, we'll need to move our key to the next frequency bucket, creating it if necessary via `defaultdict`.\n",
    "\n",
    "Getting a key has similar logic to updating it, without actually updating it."
   ]
  },
  {
   "cell_type": "code",
   "execution_count": 1,
   "metadata": {
    "pycharm": {
     "name": "#%%\n"
    },
    "scrolled": false
   },
   "outputs": [],
   "source": [
    "from collections import defaultdict\n",
    "from collections import deque\n",
    "\n",
    "\n",
    "class LFUCache:\n",
    "    def __init__(self, capacity):\n",
    "        self.capacity = capacity\n",
    "        self.val_map = {}\n",
    "        self.freq_map = defaultdict(deque)\n",
    "        self.min_freq = 0\n",
    "\n",
    "    def get(self, key):\n",
    "        # If key doesn't exist, return None.\n",
    "        if key not in self.val_map:\n",
    "            return None\n",
    "\n",
    "        # First, we look up the val and frequency in our val_map.\n",
    "        val, freq = self.val_map[key]\n",
    "\n",
    "        # We need to then increment the frequency of our key,\n",
    "        # so we'll take it out of the current bucket and put it\n",
    "        # into the next frequency's bucket. If it was the last thing\n",
    "        # in the current bucket and the lowest frequency, (e.g. 1 to 2),\n",
    "        # then we'll make sure to update our min_freq so we can keep\n",
    "        # track of what to evict.\n",
    "        self.freq_map[freq].remove(key)\n",
    "        if not self.freq_map[freq]:\n",
    "            del self.freq_map[freq]\n",
    "            if self.min_freq == freq:\n",
    "                self.min_freq += 1\n",
    "\n",
    "        # Update our dicts as usual.\n",
    "        self.val_map[key] = (val, freq + 1)\n",
    "        self.freq_map[freq + 1].append(key)\n",
    "        return val\n",
    "\n",
    "    def set(self, key, val):\n",
    "        if self.capacity == 0:\n",
    "            return\n",
    "\n",
    "        if key not in self.val_map:\n",
    "            # Evict the least frequently used key by popping left\n",
    "            # from the lowest-frequency key, since it's ordered by\n",
    "            # time (because we use append).\n",
    "            if len(self.val_map) >= self.capacity:\n",
    "                to_evict = self.freq_map[self.min_freq].popleft()\n",
    "                if not self.freq_map[self.min_freq]:\n",
    "                    del self.freq_map[self.min_freq]\n",
    "                del self.val_map[to_evict]\n",
    "\n",
    "            # Add our key to val_map and freq_map\n",
    "            self.val_map[key] = (val, 1)\n",
    "            self.freq_map[1].append(key)\n",
    "            self.min_freq = 1\n",
    "        else:\n",
    "            # Update the entry and increase the frequency of the key,\n",
    "            # updating the minimum frequency if necessary.\n",
    "            _, freq = self.val_map[key]\n",
    "            \n",
    "            self.freq_map[freq].remove(key)\n",
    "            if not self.freq_map[freq]:\n",
    "                if freq == self.min_freq:\n",
    "                    self.min_freq += 1\n",
    "                del self.freq_map[freq]\n",
    "                \n",
    "            self.val_map[key] = (val, freq + 1)\n",
    "            self.freq_map[freq + 1].append(key)"
   ]
  },
  {
   "cell_type": "markdown",
   "metadata": {
    "pycharm": {
     "name": "#%% md\n"
    }
   },
   "source": [
    "Both `get(...)` and `set(...)` run in $O(1)$ time."
   ]
  }
 ],
 "metadata": {
  "kernelspec": {
   "display_name": "Python 3 (ipykernel)",
   "language": "python",
   "name": "python3"
  },
  "language_info": {
   "codemirror_mode": {
    "name": "ipython",
    "version": 3
   },
   "file_extension": ".py",
   "mimetype": "text/x-python",
   "name": "python",
   "nbconvert_exporter": "python",
   "pygments_lexer": "ipython3",
   "version": "3.8.6"
  }
 },
 "nbformat": 4,
 "nbformat_minor": 1
}