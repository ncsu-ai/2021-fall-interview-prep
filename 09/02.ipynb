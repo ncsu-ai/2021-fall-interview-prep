{
 "cells": [
  {
   "cell_type": "markdown",
   "id": "106caaa1",
   "metadata": {},
   "source": [
    "# Count Pairs of Attacking Bishops (Google)\n",
    "##### *Algorithms & Data Structures*\n",
    "\n",
    "On our special chessboard, two bishops attack each other if they share the same diagonal. This includes bishops that have another bishops located between them (i.e., bishops can attack through pieces).\n",
    "\n",
    "You are given `N` bishops, represented as (row, column) `tuples` on a `M` by `M` chessboard. Write a function to count the number of pairs of bishops that attack each other. The ordering of the pair doesn’t matter. For example, given `M=5` and the list of bishops: `[(0, 0), (1, 2), (2, 2), (4, 0)]`, you should return 2, since bishops 1 & 3 and 3 & 4 attack each other."
   ]
  },
  {
   "cell_type": "code",
   "execution_count": null,
   "id": "29001fe1",
   "metadata": {},
   "outputs": [],
   "source": [
    "[\n",
    "    [b, 0, 0, 0, 0],\n",
    "    [0, 0, b, 0, 0],\n",
    "    [0, 0, b, 0, 0],\n",
    "    [0, 0, 0, 0, 0],\n",
    "    [b, 0, 0, 0, 0],\n",
    "]\n",
    "\n",
    "\n",
    "\n",
    "\n",
    "\n",
    "\n",
    "\n",
    "\n",
    "\n",
    "\n",
    "\n"
   ]
  },
  {
   "cell_type": "markdown",
   "id": "c602998f",
   "metadata": {},
   "source": [
    "### Solution\n",
    "One approach would be to iterate through each bishop and find all the other attacking bishops, incrementing the count when we find a pair.\n",
    "\n",
    "We can define a helper function `is_attacking(...)` that returns whether or not two bishops are attacking each other:"
   ]
  },
  {
   "cell_type": "code",
   "execution_count": null,
   "id": "d42fe849",
   "metadata": {},
   "outputs": [],
   "source": [
    "def is_attacking(bishop0, bishop1):\n",
    "    r0, c0 = bishop0\n",
    "    r1, c1 = bishop1\n",
    "    return abs(r1 - r0) == abs(c1 - c0)\n",
    "\n",
    "def pairs(bishops, m):\n",
    "    count = 0\n",
    "    for i, bishop0 in enumerate(bishops):\n",
    "        for j, bishop1 in enumerate(bishops[i + 1:]):\n",
    "            count += is_attacking(bishop0, bishop1)\n",
    "    return count"
   ]
  },
  {
   "cell_type": "markdown",
   "id": "4c4b2589",
   "metadata": {},
   "source": [
    "This would run in $O(N^2)$ time, however. Can we make this any faster?\n",
    "\n",
    "If we know how many bishops are in each diagonal, then we can know how many pairs are attacking: for each diagonal, it's the number of bishops choose 2, since each bishop makes a pair with every other bishop. That is, the number of ways in which we can select two distinct bishops for each diagonal.\n",
    "\n",
    "So, if we go through each bishop and bucket them into each separate diagonal, we can just run (b choose 2) on the number of bishops on each diagonal and sum them up. Recall that (n choose 2) is equivalent to $n * (n - 1) / 2$.\n",
    "\n",
    "Each *bucket* is represented by a tuple of `top_left_row`, `top_left_column`, and `direction`. (Or right row if it's the other way.) Then we can quickly figure out which bucket a bishop belongs to by moving up each diagonal until we hit a border."
   ]
  },
  {
   "cell_type": "code",
   "execution_count": null,
   "id": "fb622a59",
   "metadata": {},
   "outputs": [],
   "source": [
    "from collections import defaultdict\n",
    "\n",
    "\n",
    "TOP_LEFT_TO_BOTTOM_RIGHT = 0\n",
    "TOP_RIGHT_TO_BOTTOM_LEFT = 1\n",
    "\n",
    "\n",
    "def combos(num):\n",
    "    return num * (num - 1) / 2\n",
    "\n",
    "\n",
    "def pairs(bishops, m):\n",
    "    counts = defaultdict(int)\n",
    "    for r, c in bishops:\n",
    "        top_lr, top_lc = (r - min(r, c), c - min(r, c))\n",
    "        top_rr, top_rc = (r - min(r, m - c), c + min(r, m - c))\n",
    "\n",
    "        counts[top_lr, top_lc, TOP_LEFT_TO_BOTTOM_RIGHT] += 1\n",
    "        counts[top_rr, top_rc, TOP_RIGHT_TO_BOTTOM_LEFT] += 1\n",
    "        \n",
    "    return sum(combos(c) for c in counts.values())"
   ]
  },
  {
   "cell_type": "markdown",
   "id": "3fd9dae2",
   "metadata": {},
   "source": [
    "This runs in $O(N)$ time and space."
   ]
  }
 ],
 "metadata": {
  "kernelspec": {
   "display_name": "Python 3 (ipykernel)",
   "language": "python",
   "name": "python3"
  },
  "language_info": {
   "codemirror_mode": {
    "name": "ipython",
    "version": 3
   },
   "file_extension": ".py",
   "mimetype": "text/x-python",
   "name": "python",
   "nbconvert_exporter": "python",
   "pygments_lexer": "ipython3",
   "version": "3.8.6"
  }
 },
 "nbformat": 4,
 "nbformat_minor": 5
}
