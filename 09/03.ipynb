{
 "cells": [
  {
   "cell_type": "markdown",
   "id": "93a7fc10",
   "metadata": {},
   "source": [
    "# Tree Nodes (Pinterest)\n",
    "##### *SQL*\n",
    "\n",
    "Given a table `tree` where the `id` is the identifier of the tree node and `p_id` is the identifier of the parent node, write a query to print the node `id` and the `type` of the node. Sort your output by the node `id`."
   ]
  },
  {
   "cell_type": "code",
   "execution_count": 12,
   "id": "b5285a2e",
   "metadata": {},
   "outputs": [
    {
     "data": {
      "text/html": [
       "<table style=\"width: 60%;\"><tr><td><img src=\"img/tree.png\"/></td><td><img src=\"img/types.png\"/></td></tr></table>"
      ],
      "text/plain": [
       "<IPython.core.display.HTML object>"
      ]
     },
     "metadata": {},
     "output_type": "display_data"
    }
   ],
   "source": [
    "from IPython.display import display, HTML\n",
    "display(HTML('<table style=\"width: 60%;\"><tr><td><img src=\"img/tree.png\"/></td><td><img src=\"img/types.png\"/></td></tr></table>'))"
   ]
  },
  {
   "cell_type": "code",
   "execution_count": null,
   "id": "b43152a3",
   "metadata": {},
   "outputs": [],
   "source": [
    "\n",
    "\n",
    "\n",
    "\n",
    "\n",
    "\n",
    "\n",
    "\n",
    "\n",
    "\n",
    "\n"
   ]
  },
  {
   "cell_type": "markdown",
   "id": "e3feabdf",
   "metadata": {},
   "source": [
    "### Solution"
   ]
  },
  {
   "cell_type": "code",
   "execution_count": null,
   "id": "ae2498f2",
   "metadata": {},
   "outputs": [],
   "source": [
    "\"\"\"\n",
    "select id,\n",
    "       case when p_id is null then 'Root'\n",
    "            when id not in (\n",
    "                select p_id from tree\n",
    "                where p_id is not null\n",
    "                group by p_id\n",
    "            ) then 'Leaf'\n",
    "            else 'Inner'\n",
    "       end as Type\n",
    "from tree\n",
    "order by id\n",
    "\"\"\""
   ]
  }
 ],
 "metadata": {
  "kernelspec": {
   "display_name": "Python 3 (ipykernel)",
   "language": "python",
   "name": "python3"
  },
  "language_info": {
   "codemirror_mode": {
    "name": "ipython",
    "version": 3
   },
   "file_extension": ".py",
   "mimetype": "text/x-python",
   "name": "python",
   "nbconvert_exporter": "python",
   "pygments_lexer": "ipython3",
   "version": "3.8.6"
  }
 },
 "nbformat": 4,
 "nbformat_minor": 5
}
